{
 "cells": [
  {
   "cell_type": "markdown",
   "id": "5c462880",
   "metadata": {},
   "source": [
    "### Part -A\n",
    "• DOMAIN: Medical\n",
    "\n",
    "• CONTEXT: Medical research university X is undergoing a deep research on patients with certain conditions. University has an internal AI team.\n",
    "Due to confidentiality the patient’s details and the conditions are masked by the client by providing different datasets to the AI team for\n",
    "developing a AIML model which can predict the condition of the patient depending on the received test results.\n",
    "\n",
    "• DATA DESCRIPTION: The data consists of biomechanics features of the patients according to their current conditions. Each patient is\n",
    "represented in the data set by six biomechanics attributes derived from the shape and orientation of the condition to their body part.\n",
    "\n",
    "• PROJECT OBJECTIVE: To Demonstrate the ability to fetch, process and leverage data to generate useful predictions by training Supervised\n",
    "Learning algorithms."
   ]
  },
  {
   "cell_type": "markdown",
   "id": "6ceec0a7",
   "metadata": {},
   "source": [
    "#### 1 Data Understanding\n",
    "##### 1.A Read all the 3 CSV files as DataFrame and store them into 3 separate variables. "
   ]
  },
  {
   "cell_type": "code",
   "execution_count": 3,
   "id": "f396ac5d",
   "metadata": {},
   "outputs": [],
   "source": [
    "import pandas as pd\n",
    "import seaborn as sns\n",
    "import numpy as np\n",
    "import matplotlib.pyplot as plt\n",
    "%matplotlib inline"
   ]
  },
  {
   "cell_type": "code",
   "execution_count": 33,
   "id": "2908df41",
   "metadata": {},
   "outputs": [],
   "source": [
    "type_h = pd.read_csv(\"Type_H.csv\")\n",
    "type_s = pd.read_csv(\"Type_S.csv\")\n",
    "type_normal = pd.read_csv(\"Normal.csv\")"
   ]
  },
  {
   "cell_type": "code",
   "execution_count": 47,
   "id": "46663887",
   "metadata": {},
   "outputs": [
    {
     "data": {
      "text/html": [
       "<div>\n",
       "<style scoped>\n",
       "    .dataframe tbody tr th:only-of-type {\n",
       "        vertical-align: middle;\n",
       "    }\n",
       "\n",
       "    .dataframe tbody tr th {\n",
       "        vertical-align: top;\n",
       "    }\n",
       "\n",
       "    .dataframe thead th {\n",
       "        text-align: right;\n",
       "    }\n",
       "</style>\n",
       "<table border=\"1\" class=\"dataframe\">\n",
       "  <thead>\n",
       "    <tr style=\"text-align: right;\">\n",
       "      <th></th>\n",
       "      <th>P_incidence</th>\n",
       "      <th>P_tilt</th>\n",
       "      <th>L_angle</th>\n",
       "      <th>S_slope</th>\n",
       "      <th>P_radius</th>\n",
       "      <th>S_Degree</th>\n",
       "      <th>Class</th>\n",
       "    </tr>\n",
       "  </thead>\n",
       "  <tbody>\n",
       "    <tr>\n",
       "      <th>0</th>\n",
       "      <td>63.027818</td>\n",
       "      <td>22.552586</td>\n",
       "      <td>39.609117</td>\n",
       "      <td>40.475232</td>\n",
       "      <td>98.672917</td>\n",
       "      <td>-0.254400</td>\n",
       "      <td>Type_H</td>\n",
       "    </tr>\n",
       "    <tr>\n",
       "      <th>1</th>\n",
       "      <td>39.056951</td>\n",
       "      <td>10.060991</td>\n",
       "      <td>25.015378</td>\n",
       "      <td>28.995960</td>\n",
       "      <td>114.405425</td>\n",
       "      <td>4.564259</td>\n",
       "      <td>Type_H</td>\n",
       "    </tr>\n",
       "    <tr>\n",
       "      <th>2</th>\n",
       "      <td>68.832021</td>\n",
       "      <td>22.218482</td>\n",
       "      <td>50.092194</td>\n",
       "      <td>46.613539</td>\n",
       "      <td>105.985135</td>\n",
       "      <td>-3.530317</td>\n",
       "      <td>Type_H</td>\n",
       "    </tr>\n",
       "    <tr>\n",
       "      <th>3</th>\n",
       "      <td>69.297008</td>\n",
       "      <td>24.652878</td>\n",
       "      <td>44.311238</td>\n",
       "      <td>44.644130</td>\n",
       "      <td>101.868495</td>\n",
       "      <td>11.211523</td>\n",
       "      <td>Type_H</td>\n",
       "    </tr>\n",
       "    <tr>\n",
       "      <th>4</th>\n",
       "      <td>49.712859</td>\n",
       "      <td>9.652075</td>\n",
       "      <td>28.317406</td>\n",
       "      <td>40.060784</td>\n",
       "      <td>108.168725</td>\n",
       "      <td>7.918501</td>\n",
       "      <td>Type_H</td>\n",
       "    </tr>\n",
       "  </tbody>\n",
       "</table>\n",
       "</div>"
      ],
      "text/plain": [
       "   P_incidence     P_tilt    L_angle    S_slope    P_radius   S_Degree   Class\n",
       "0    63.027818  22.552586  39.609117  40.475232   98.672917  -0.254400  Type_H\n",
       "1    39.056951  10.060991  25.015378  28.995960  114.405425   4.564259  Type_H\n",
       "2    68.832021  22.218482  50.092194  46.613539  105.985135  -3.530317  Type_H\n",
       "3    69.297008  24.652878  44.311238  44.644130  101.868495  11.211523  Type_H\n",
       "4    49.712859   9.652075  28.317406  40.060784  108.168725   7.918501  Type_H"
      ]
     },
     "execution_count": 47,
     "metadata": {},
     "output_type": "execute_result"
    }
   ],
   "source": [
    "# Reading Type_H Dataset\n",
    "type_h.head(5)"
   ]
  },
  {
   "cell_type": "code",
   "execution_count": 48,
   "id": "87d4413b",
   "metadata": {},
   "outputs": [
    {
     "data": {
      "text/html": [
       "<div>\n",
       "<style scoped>\n",
       "    .dataframe tbody tr th:only-of-type {\n",
       "        vertical-align: middle;\n",
       "    }\n",
       "\n",
       "    .dataframe tbody tr th {\n",
       "        vertical-align: top;\n",
       "    }\n",
       "\n",
       "    .dataframe thead th {\n",
       "        text-align: right;\n",
       "    }\n",
       "</style>\n",
       "<table border=\"1\" class=\"dataframe\">\n",
       "  <thead>\n",
       "    <tr style=\"text-align: right;\">\n",
       "      <th></th>\n",
       "      <th>P_incidence</th>\n",
       "      <th>P_tilt</th>\n",
       "      <th>L_angle</th>\n",
       "      <th>S_slope</th>\n",
       "      <th>P_radius</th>\n",
       "      <th>S_Degree</th>\n",
       "      <th>Class</th>\n",
       "    </tr>\n",
       "  </thead>\n",
       "  <tbody>\n",
       "    <tr>\n",
       "      <th>0</th>\n",
       "      <td>74.377678</td>\n",
       "      <td>32.053104</td>\n",
       "      <td>78.772013</td>\n",
       "      <td>42.324573</td>\n",
       "      <td>143.560690</td>\n",
       "      <td>56.125906</td>\n",
       "      <td>Type_S</td>\n",
       "    </tr>\n",
       "    <tr>\n",
       "      <th>1</th>\n",
       "      <td>89.680567</td>\n",
       "      <td>32.704435</td>\n",
       "      <td>83.130732</td>\n",
       "      <td>56.976132</td>\n",
       "      <td>129.955476</td>\n",
       "      <td>92.027277</td>\n",
       "      <td>Type_S</td>\n",
       "    </tr>\n",
       "    <tr>\n",
       "      <th>2</th>\n",
       "      <td>44.529051</td>\n",
       "      <td>9.433234</td>\n",
       "      <td>52.000000</td>\n",
       "      <td>35.095817</td>\n",
       "      <td>134.711772</td>\n",
       "      <td>29.106575</td>\n",
       "      <td>Type_S</td>\n",
       "    </tr>\n",
       "    <tr>\n",
       "      <th>3</th>\n",
       "      <td>77.690577</td>\n",
       "      <td>21.380645</td>\n",
       "      <td>64.429442</td>\n",
       "      <td>56.309932</td>\n",
       "      <td>114.818751</td>\n",
       "      <td>26.931841</td>\n",
       "      <td>Type_S</td>\n",
       "    </tr>\n",
       "    <tr>\n",
       "      <th>4</th>\n",
       "      <td>76.147212</td>\n",
       "      <td>21.936186</td>\n",
       "      <td>82.961502</td>\n",
       "      <td>54.211027</td>\n",
       "      <td>123.932010</td>\n",
       "      <td>10.431972</td>\n",
       "      <td>Type_S</td>\n",
       "    </tr>\n",
       "  </tbody>\n",
       "</table>\n",
       "</div>"
      ],
      "text/plain": [
       "   P_incidence     P_tilt    L_angle    S_slope    P_radius   S_Degree   Class\n",
       "0    74.377678  32.053104  78.772013  42.324573  143.560690  56.125906  Type_S\n",
       "1    89.680567  32.704435  83.130732  56.976132  129.955476  92.027277  Type_S\n",
       "2    44.529051   9.433234  52.000000  35.095817  134.711772  29.106575  Type_S\n",
       "3    77.690577  21.380645  64.429442  56.309932  114.818751  26.931841  Type_S\n",
       "4    76.147212  21.936186  82.961502  54.211027  123.932010  10.431972  Type_S"
      ]
     },
     "execution_count": 48,
     "metadata": {},
     "output_type": "execute_result"
    }
   ],
   "source": [
    "# Reading Type_S Dataset\n",
    "type_s.head(5)"
   ]
  },
  {
   "cell_type": "code",
   "execution_count": 50,
   "id": "a4bf2e8b",
   "metadata": {},
   "outputs": [
    {
     "data": {
      "text/html": [
       "<div>\n",
       "<style scoped>\n",
       "    .dataframe tbody tr th:only-of-type {\n",
       "        vertical-align: middle;\n",
       "    }\n",
       "\n",
       "    .dataframe tbody tr th {\n",
       "        vertical-align: top;\n",
       "    }\n",
       "\n",
       "    .dataframe thead th {\n",
       "        text-align: right;\n",
       "    }\n",
       "</style>\n",
       "<table border=\"1\" class=\"dataframe\">\n",
       "  <thead>\n",
       "    <tr style=\"text-align: right;\">\n",
       "      <th></th>\n",
       "      <th>P_incidence</th>\n",
       "      <th>P_tilt</th>\n",
       "      <th>L_angle</th>\n",
       "      <th>S_slope</th>\n",
       "      <th>P_radius</th>\n",
       "      <th>S_Degree</th>\n",
       "      <th>Class</th>\n",
       "    </tr>\n",
       "  </thead>\n",
       "  <tbody>\n",
       "    <tr>\n",
       "      <th>0</th>\n",
       "      <td>38.505273</td>\n",
       "      <td>16.964297</td>\n",
       "      <td>35.112814</td>\n",
       "      <td>21.540976</td>\n",
       "      <td>127.632875</td>\n",
       "      <td>7.986683</td>\n",
       "      <td>Normal</td>\n",
       "    </tr>\n",
       "    <tr>\n",
       "      <th>1</th>\n",
       "      <td>54.920858</td>\n",
       "      <td>18.968430</td>\n",
       "      <td>51.601455</td>\n",
       "      <td>35.952428</td>\n",
       "      <td>125.846646</td>\n",
       "      <td>2.001642</td>\n",
       "      <td>Normal</td>\n",
       "    </tr>\n",
       "    <tr>\n",
       "      <th>2</th>\n",
       "      <td>44.362490</td>\n",
       "      <td>8.945435</td>\n",
       "      <td>46.902096</td>\n",
       "      <td>35.417055</td>\n",
       "      <td>129.220682</td>\n",
       "      <td>4.994195</td>\n",
       "      <td>Normal</td>\n",
       "    </tr>\n",
       "    <tr>\n",
       "      <th>3</th>\n",
       "      <td>48.318931</td>\n",
       "      <td>17.452121</td>\n",
       "      <td>48.000000</td>\n",
       "      <td>30.866809</td>\n",
       "      <td>128.980308</td>\n",
       "      <td>-0.910941</td>\n",
       "      <td>Normal</td>\n",
       "    </tr>\n",
       "    <tr>\n",
       "      <th>4</th>\n",
       "      <td>45.701789</td>\n",
       "      <td>10.659859</td>\n",
       "      <td>42.577846</td>\n",
       "      <td>35.041929</td>\n",
       "      <td>130.178314</td>\n",
       "      <td>-3.388910</td>\n",
       "      <td>Normal</td>\n",
       "    </tr>\n",
       "  </tbody>\n",
       "</table>\n",
       "</div>"
      ],
      "text/plain": [
       "   P_incidence     P_tilt    L_angle    S_slope    P_radius  S_Degree   Class\n",
       "0    38.505273  16.964297  35.112814  21.540976  127.632875  7.986683  Normal\n",
       "1    54.920858  18.968430  51.601455  35.952428  125.846646  2.001642  Normal\n",
       "2    44.362490   8.945435  46.902096  35.417055  129.220682  4.994195  Normal\n",
       "3    48.318931  17.452121  48.000000  30.866809  128.980308 -0.910941  Normal\n",
       "4    45.701789  10.659859  42.577846  35.041929  130.178314 -3.388910  Normal"
      ]
     },
     "execution_count": 50,
     "metadata": {},
     "output_type": "execute_result"
    }
   ],
   "source": [
    "# Reading Type Normal Dataset\n",
    "type_normal.head(5)"
   ]
  },
  {
   "cell_type": "markdown",
   "id": "7943e3c7",
   "metadata": {},
   "source": [
    "##### 1.B Print 'Shape' and 'Columns' of each Dataframe"
   ]
  },
  {
   "cell_type": "code",
   "execution_count": 56,
   "id": "f138d590",
   "metadata": {},
   "outputs": [
    {
     "data": {
      "text/plain": [
       "(60, 7)"
      ]
     },
     "execution_count": 56,
     "metadata": {},
     "output_type": "execute_result"
    }
   ],
   "source": [
    "# Print shape of Type_H Dataset\n",
    "type_h.shape"
   ]
  },
  {
   "cell_type": "markdown",
   "id": "0c567c2b",
   "metadata": {},
   "source": [
    "Shape of Type_H Dataset is 60 rows * 7 columns"
   ]
  },
  {
   "cell_type": "code",
   "execution_count": 52,
   "id": "7e02bcb0",
   "metadata": {},
   "outputs": [
    {
     "data": {
      "text/plain": [
       "Index(['P_incidence', 'P_tilt', 'L_angle', 'S_slope', 'P_radius', 'S_Degree',\n",
       "       'Class'],\n",
       "      dtype='object')"
      ]
     },
     "execution_count": 52,
     "metadata": {},
     "output_type": "execute_result"
    }
   ],
   "source": [
    "# Print Type_H Dataset Columns\n",
    "type_h.columns"
   ]
  },
  {
   "cell_type": "code",
   "execution_count": 53,
   "id": "a8fa9d2f",
   "metadata": {},
   "outputs": [
    {
     "data": {
      "text/plain": [
       "(150, 7)"
      ]
     },
     "execution_count": 53,
     "metadata": {},
     "output_type": "execute_result"
    }
   ],
   "source": [
    "# Print shape of Type_S Dataset\n",
    "type_s.shape"
   ]
  },
  {
   "cell_type": "markdown",
   "id": "b378ce95",
   "metadata": {},
   "source": [
    "Shape of Type_S Dataset is 150 rows * 7 columns"
   ]
  },
  {
   "cell_type": "code",
   "execution_count": 54,
   "id": "d062fb18",
   "metadata": {},
   "outputs": [
    {
     "data": {
      "text/plain": [
       "Index(['P_incidence', 'P_tilt', 'L_angle', 'S_slope', 'P_radius', 'S_Degree',\n",
       "       'Class'],\n",
       "      dtype='object')"
      ]
     },
     "execution_count": 54,
     "metadata": {},
     "output_type": "execute_result"
    }
   ],
   "source": [
    "# Print Type_S Dataset Columns\n",
    "type_s.columns"
   ]
  },
  {
   "cell_type": "code",
   "execution_count": 57,
   "id": "8e880bf5",
   "metadata": {},
   "outputs": [
    {
     "data": {
      "text/plain": [
       "(100, 7)"
      ]
     },
     "execution_count": 57,
     "metadata": {},
     "output_type": "execute_result"
    }
   ],
   "source": [
    "# Print Type_Normal Dataset Shape\n",
    "type_normal.shape"
   ]
  },
  {
   "cell_type": "markdown",
   "id": "149b317f",
   "metadata": {},
   "source": [
    "Shape of Type_Normal Dataset is 100 rows * 7 columns"
   ]
  },
  {
   "cell_type": "code",
   "execution_count": 55,
   "id": "7ae34101",
   "metadata": {},
   "outputs": [
    {
     "data": {
      "text/plain": [
       "Index(['P_incidence', 'P_tilt', 'L_angle', 'S_slope', 'P_radius', 'S_Degree',\n",
       "       'Class'],\n",
       "      dtype='object')"
      ]
     },
     "execution_count": 55,
     "metadata": {},
     "output_type": "execute_result"
    }
   ],
   "source": [
    "# Print Type Normal Dataset Columns\n",
    "type_normal.columns"
   ]
  },
  {
   "cell_type": "markdown",
   "id": "f9900031",
   "metadata": {},
   "source": [
    "##### 1.C Compare Column names of all the 3 DataFrames and clearly write observations.\n",
    "\n",
    "All the 3 datasets contain the identical number and types of Columns"
   ]
  },
  {
   "cell_type": "markdown",
   "id": "e2265319",
   "metadata": {},
   "source": [
    "##### 1.D Print DataTypes of all the 3 DataFrames. "
   ]
  },
  {
   "cell_type": "code",
   "execution_count": 58,
   "id": "55142980",
   "metadata": {},
   "outputs": [
    {
     "data": {
      "text/plain": [
       "P_incidence    float64\n",
       "P_tilt         float64\n",
       "L_angle        float64\n",
       "S_slope        float64\n",
       "P_radius       float64\n",
       "S_Degree       float64\n",
       "Class           object\n",
       "dtype: object"
      ]
     },
     "execution_count": 58,
     "metadata": {},
     "output_type": "execute_result"
    }
   ],
   "source": [
    "# Print Type_H Dataset datatypes\n",
    "type_h.dtypes"
   ]
  },
  {
   "cell_type": "code",
   "execution_count": 16,
   "id": "ea51d760",
   "metadata": {},
   "outputs": [
    {
     "data": {
      "text/plain": [
       "ID                       int64\n",
       "Mortgage                 int64\n",
       "Security                 int64\n",
       "FixedDepositAccount      int64\n",
       "InternetBanking          int64\n",
       "CreditCard               int64\n",
       "LoanOnCard             float64\n",
       "dtype: object"
      ]
     },
     "execution_count": 16,
     "metadata": {},
     "output_type": "execute_result"
    }
   ],
   "source": [
    "# Print Type_S Dataset datatypes\n",
    "type_s.dtypes"
   ]
  },
  {
   "cell_type": "code",
   "execution_count": 60,
   "id": "05c8e0fd",
   "metadata": {},
   "outputs": [
    {
     "data": {
      "text/plain": [
       "P_incidence    float64\n",
       "P_tilt         float64\n",
       "L_angle        float64\n",
       "S_slope        float64\n",
       "P_radius       float64\n",
       "S_Degree       float64\n",
       "Class           object\n",
       "dtype: object"
      ]
     },
     "execution_count": 60,
     "metadata": {},
     "output_type": "execute_result"
    }
   ],
   "source": [
    "# Print Type_Normal Dataset datatypes\n",
    "type_normal.dtypes"
   ]
  },
  {
   "cell_type": "markdown",
   "id": "f7ca3a83",
   "metadata": {},
   "source": [
    "###### 1.E Observe and share variation in ‘Class’ feature of all the 3 DataFrames"
   ]
  },
  {
   "cell_type": "code",
   "execution_count": 69,
   "id": "bc6f18d9",
   "metadata": {},
   "outputs": [
    {
     "data": {
      "text/plain": [
       "<seaborn.axisgrid.FacetGrid at 0x1b2253e7250>"
      ]
     },
     "execution_count": 69,
     "metadata": {},
     "output_type": "execute_result"
    },
    {
     "data": {
      "image/png": "[encoded data removed]",
      "text/plain": [
       "<Figure size 360x360 with 1 Axes>"
      ]
     },
     "metadata": {
      "needs_background": "light"
     },
     "output_type": "display_data"
    }
   ],
   "source": [
    "# Variation in Class column of Type_S Dataset\n",
    "sns.displot(type_s.Class)"
   ]
  },
  {
   "cell_type": "code",
   "execution_count": 65,
   "id": "2922454d",
   "metadata": {},
   "outputs": [
    {
     "data": {
      "text/plain": [
       "<seaborn.axisgrid.FacetGrid at 0x1b2251e6f10>"
      ]
     },
     "execution_count": 65,
     "metadata": {},
     "output_type": "execute_result"
    },
    {
     "data": {
      "image/png": "[encoded data removed]",
      "text/plain": [
       "<Figure size 360x360 with 1 Axes>"
      ]
     },
     "metadata": {
      "needs_background": "light"
     },
     "output_type": "display_data"
    }
   ],
   "source": [
    "# Variation in Class column of Type_H Dataset\n",
    "sns.displot(type_h.Class)"
   ]
  },
  {
   "cell_type": "code",
   "execution_count": 66,
   "id": "8da51164",
   "metadata": {},
   "outputs": [
    {
     "data": {
      "text/plain": [
       "<seaborn.axisgrid.FacetGrid at 0x1b2254b6d60>"
      ]
     },
     "execution_count": 66,
     "metadata": {},
     "output_type": "execute_result"
    },
    {
     "data": {
      "image/png": "[encoded data removed]",
      "text/plain": [
       "<Figure size 360x360 with 1 Axes>"
      ]
     },
     "metadata": {
      "needs_background": "light"
     },
     "output_type": "display_data"
    }
   ],
   "source": [
    "# Variation in Class column of Type_Normal Dataset\n",
    "sns.displot(type_normal.Class)"
   ]
  },
  {
   "cell_type": "code",
   "execution_count": null,
   "id": "dda80d3a",
   "metadata": {},
   "outputs": [],
   "source": []
  }
 ],
 "metadata": {
  "kernelspec": {
   "display_name": "Python 3",
   "language": "python",
   "name": "python3"
  },
  "language_info": {
   "codemirror_mode": {
    "name": "ipython",
    "version": 3
   },
   "file_extension": ".py",
   "mimetype": "text/x-python",
   "name": "python",
   "nbconvert_exporter": "python",
   "pygments_lexer": "ipython3",
   "version": "3.8.8"
  }
 },
 "nbformat": 4,
 "nbformat_minor": 5
}
